{
  "nbformat": 4,
  "nbformat_minor": 0,
  "metadata": {
    "colab": {
      "name": "Coding_University",
      "provenance": [],
      "authorship_tag": "ABX9TyPZWA1u/40WXD4BcZNDEnJJ",
      "include_colab_link": true
    },
    "kernelspec": {
      "name": "python3",
      "display_name": "Python 3"
    },
    "language_info": {
      "name": "python"
    }
  },
  "cells": [
    {
      "cell_type": "markdown",
      "metadata": {
        "id": "view-in-github",
        "colab_type": "text"
      },
      "source": [
        "<a href=\"https://colab.research.google.com/github/the-last-crusaderr/Acclerated_cpp/blob/master/Coding_University.ipynb\" target=\"_parent\"><img src=\"https://colab.research.google.com/assets/colab-badge.svg\" alt=\"Open In Colab\"/></a>"
      ]
    },
    {
      "cell_type": "markdown",
      "metadata": {
        "id": "Svkrzr2xP-e6"
      },
      "source": [
        "# ***Array***\n",
        "\n",
        "---\n",
        "\n",
        "\n"
      ]
    },
    {
      "cell_type": "markdown",
      "metadata": {
        "id": "biYwQGcGQLpO"
      },
      "source": [
        "# **How do arrays basically work in python under the hood?**\n"
      ]
    },
    {
      "cell_type": "markdown",
      "metadata": {
        "id": "POnLnstnW4fg"
      },
      "source": [
        "* The array is same in python like the list.\n",
        "* There is some restriction apply to this data structure.\n",
        "* These are similiar to C-style array.\n",
        "\n"
      ]
    },
    {
      "cell_type": "code",
      "metadata": {
        "id": "xobpbLAGQVZt",
        "colab": {
          "base_uri": "https://localhost:8080/"
        },
        "outputId": "0021216e-ee0b-4cb4-d3e6-2e5dcfba5918"
      },
      "source": [
        "import array\n",
        "\n",
        "\n",
        "y = array.array('u','U+1F600')\n",
        "print(y.tounicode())\n",
        "print(y)"
      ],
      "execution_count": 4,
      "outputs": [
        {
          "output_type": "stream",
          "text": [
            "U+1F600\n",
            "array('u', 'U+1F600')\n"
          ],
          "name": "stdout"
        }
      ]
    },
    {
      "cell_type": "markdown",
      "metadata": {
        "id": "FV9g0YCnQXKP"
      },
      "source": [
        "# Linked List"
      ]
    },
    {
      "cell_type": "markdown",
      "metadata": {
        "id": "msRazMe_Qvdy"
      },
      "source": [
        "# Stack"
      ]
    },
    {
      "cell_type": "markdown",
      "metadata": {
        "id": "-sad3zvjQ0c2"
      },
      "source": [
        "# Queue"
      ]
    },
    {
      "cell_type": "markdown",
      "metadata": {
        "id": "wheOtAkiQ8Fv"
      },
      "source": [
        "# Hash Table"
      ]
    },
    {
      "cell_type": "markdown",
      "metadata": {
        "id": "4iHPbZj9RCGC"
      },
      "source": [
        "# Binary Search"
      ]
    },
    {
      "cell_type": "markdown",
      "metadata": {
        "id": "_HMLn7XdRHOL"
      },
      "source": [
        "# Bitwise Operations"
      ]
    },
    {
      "cell_type": "markdown",
      "metadata": {
        "id": "89I0_DGLROyN"
      },
      "source": [
        "# New Section"
      ]
    },
    {
      "cell_type": "markdown",
      "metadata": {
        "id": "pbLTblAVQe5g"
      },
      "source": [
        "How the inbuilt list work in python under the hood?"
      ]
    }
  ]
}