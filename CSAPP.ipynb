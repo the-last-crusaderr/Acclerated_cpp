{
  "nbformat": 4,
  "nbformat_minor": 0,
  "metadata": {
    "colab": {
      "name": "CSAPP.ipynb",
      "provenance": [],
      "authorship_tag": "ABX9TyP9TQGPgUUq+8N1ES49MHnb",
      "include_colab_link": true
    },
    "kernelspec": {
      "name": "python3",
      "display_name": "Python 3"
    },
    "language_info": {
      "name": "python"
    }
  },
  "cells": [
    {
      "cell_type": "markdown",
      "metadata": {
        "id": "view-in-github",
        "colab_type": "text"
      },
      "source": [
        "<a href=\"https://colab.research.google.com/github/the-last-crusaderr/computationInsideOut/blob/master/CSAPP.ipynb\" target=\"_parent\"><img src=\"https://colab.research.google.com/assets/colab-badge.svg\" alt=\"Open In Colab\"/></a>"
      ]
    },
    {
      "cell_type": "markdown",
      "metadata": {
        "id": "HOPp77pzzedE"
      },
      "source": [
        "This notebook belongs to path of becoming rare power programmer.\n",
        "\n",
        "I chose Computer Science: A programmer's perspective for that purpose. \n",
        "\n",
        "I am done with first 2 chapters.\n",
        "\n",
        "Time to jump to 3rd chapter.(Machine Level Representation of Program)\n",
        "\n",
        "Let's Start....\n"
      ]
    },
    {
      "cell_type": "code",
      "metadata": {
        "id": "JvMufWJ7z7XP"
      },
      "source": [
        "High level language --(Compiler)---> Assembly --(Assembly)---> Machine Code ----(Linker)-----> Linking all and making executable\n",
        "\n",
        "# What's the benefits of using high level language over assembly?\n",
        "\n",
        "-> Working on abstraction\n",
        "-> Productive\n",
        "-> Highly portable\n",
        "\n",
        "\n",
        "# My goals -> Ability to read assembly langauge\n",
        "Why -> Help me to undestand the optimisation of compiler and how program behaves dynamically.\n",
        "       By understanding inefficienct at run time, we can improve the overall performance\n",
        "       \n",
        "              \n"
      ],
      "execution_count": null,
      "outputs": []
    },
    {
      "cell_type": "markdown",
      "metadata": {
        "id": "C3BBiAg654le"
      },
      "source": [
        "The machine code,we will use in this training is x86-64\n",
        "\n"
      ]
    },
    {
      "cell_type": "markdown",
      "metadata": {
        "id": "BVn7n3wtQNNN"
      },
      "source": [
        "#Practice Problem 3.1 (Address Resolution)\n",
        "\n",
        "\n",
        "\n",
        "Address Value Register Value\n",
        "0x100   0xFF  %rax    0x100\n",
        "0x104   0xAB  %rcx    0x1\n",
        "0x108   0x13  %rdx    0x3\n",
        "0x10C   0x11\n",
        "\n",
        "\n",
        "\n",
        "Problems-: Find the value at operand\n",
        "\n",
        "\n",
        "\n",
        "Operand                               Value\n",
        "\n",
        "\n",
        "%rax                                  0x100\n",
        "0x104                                 0xAB\n",
        "$0x108                                0x108\n",
        "(%rax)                                0xFF\n",
        "4(%rax)                               0xAB\n",
        "9(%rax,%rdx)                          0x11\n",
        "260(%rcx,%rdx)                        0x13\n",
        "0xFC(,%rcx,4)                         0xFF\n",
        "(%rax,%rdx,4)                         0x11\n",
        "\n",
        "\n",
        "\n",
        "\n",
        "\n",
        "----------------------------------------------------------\n",
        "\n",
        "Rough Work\n",
        "\n",
        "----------------------------------------------------------\n",
        "\n",
        "\n",
        "264/16 = 16 = 8\n",
        "16 / 16 = 1 = 0\n",
        "1 / 16 = 0 = 1\n",
        "\n",
        "0xFC                    11111100\n",
        "0x04                    00000100 \n",
        "------                     1 00000 0000 \n",
        "  0x100\n",
        "\n",
        "\n",
        "\n",
        "0x00C  \n",
        "0x100\n",
        "\n",
        "0x10C\n",
        "\n",
        "\n"
      ]
    },
    {
      "cell_type": "markdown",
      "metadata": {
        "id": "y10ZpUdBdB-p"
      },
      "source": [
        "#Data Movement\n",
        "#Practice Problem 3.2\n",
        "\n",
        "\n",
        "Question :- For each of the following lines of assembly language, determine the appropriate\n",
        "instruction suffix based on the operands. (For example, mov can be rewritten as\n",
        "movb, movw, movl, or movq.)\n",
        "\n",
        "\n",
        "\n",
        "\n",
        "\n",
        "\n",
        "movl    %eax, (%rsp)\n",
        "movw    (%rax), %dx\n",
        "movb    $0xFF, %bl\n",
        "movb    (%rsp,%rdx,4), %dl\n",
        "movq    (%rdx), %rax\n",
        "movw    %dx, (%rax)\n",
        "\n",
        "\n",
        "#Practice Problem 3.3\n",
        "\n",
        "Question :-\n",
        "\n",
        "Each of the following lines of code generates an error message when we invoke\n",
        "the assembler. Explain what is wrong with each line.\n",
        "\n",
        "\n",
        "\n",
        "\n",
        "\n",
        "movb    $0xF, (%ebx)                   Cannot use %ebx as address register\n",
        "movl    %rax, (%rsp)                   wrong instruction,should be movq\n",
        "movw    (%rax),4(%rsp)                 source and destination can't be memory at the same time\n",
        "movb    %al,%sl                        sl register doesn't exist\n",
        "movq    %rax,$0x123                    remove $\n",
        "movl    %eax,%dx                       Destination operator is shorter\n",
        "movb    %si, 8(%rbp)                   should be movw\n",
        "\n"
      ]
    },
    {
      "cell_type": "markdown",
      "metadata": {
        "id": "3ZQaWnHeIQN9"
      },
      "source": [
        "# Practice Problem 3.5\n",
        "\n",
        "\n",
        "Que : - You are given the following information. A function with prototype\n",
        "\n",
        "void decode1(long *xp, long *yp, long *zp);     // three address as arg..\n",
        "\n",
        "is compiled into assembly code, yielding the following:\n",
        "\n",
        "void decode1(long *xp, long *yp, long *zp)\n",
        "\n",
        "xp in %rdi, yp in %rsi, zp in %rdx\n",
        "\n",
        "\n",
        "\n",
        "decode1:\n",
        "movq (%rdi), %r8                    // copying x in r8\n",
        "movq (%rsi), %rcx                   // copying y in rcx \n",
        "movq (%rdx), %rax                   // copying z in rax\n",
        "movq %r8, (%rsi)                    // copying value of x in mem of yp\n",
        "movq %rcx, (%rdx)                   // copyying value of y in mem of zp\n",
        "movq %rax, (%rdi)                   // copying value of z in mem of xp\n",
        "ret\n",
        "\n",
        "Parameters xp, yp, and zp are stored in registers %rdi, %rsi, and %rdx, respectively.\n",
        "\n",
        "\n",
        "Write C code for decode1 that will have an effect equivalent to the assembly\n",
        "code shown.\n",
        "\n",
        "\n",
        "solution:-\n",
        "\n",
        "\n",
        "void decode1(long *xp,long *yp,long *zp){\n",
        "  long x = *xp;\n",
        "  long y = *yp;\n",
        "  long z = *zp;\n",
        "\n",
        "  *xp = y;\n",
        "  *yp = z;\n",
        "  *zp = x;\n",
        "\n",
        "  return ;\n",
        "\n",
        "\n",
        "}\n",
        "\n",
        "\n",
        "\n",
        "\n",
        "\n",
        "\n",
        "\n",
        "\n",
        "\n",
        "\n"
      ]
    },
    {
      "cell_type": "markdown",
      "metadata": {
        "id": "43K-s3AcPpwJ"
      },
      "source": [
        "# Arithmetic and Logical Operations\n",
        "\n",
        "All the operation of x86-64 are divided into 4 parts:-\n",
        "\n",
        "1. Load Effective Address\n",
        "2. Unary\n",
        "3. Binary\n",
        "4. Shift\n",
        "\n",
        "\n",
        "\n",
        "\n",
        "\n",
        "\n",
        "Instruction Effect                  Description\n",
        "\n",
        "\n",
        "leaq        S, D D ← &S             Load effective address\n",
        "\n",
        "\n",
        "inc         D D ← D+1               Increment\n",
        "dec         D D ← D−1               Decrement\n",
        "neg         D D ← -D                Negate\n",
        "not         D D ← ~D                Complement\n",
        "\n",
        "\n",
        "add         S, D D ← D + S          Add\n",
        "sub         S, D D ← D − S          Subtract\n",
        "imul        S, D D ← D ∗ S          Multiply\n",
        "xor         S, D D ← D ^ S          Exclusive-or\n",
        "or          S, D D ← D | S          Or\n",
        "and         S, D D ← D & S          And\n",
        "\n",
        "\n",
        "sal         k, D D ← D << k         Left shift\n",
        "shl         k, D D ← D << k         Left shift (same as sal)\n",
        "sar         k, D D ← D >>A k        Arithmetic right shift\n",
        "shr         k, D D ← D >>L k        Logical right shift\n",
        "\n"
      ]
    }
  ]
}