{
  "nbformat": 4,
  "nbformat_minor": 0,
  "metadata": {
    "colab": {
      "name": "CSAPP.ipynb",
      "provenance": [],
      "authorship_tag": "ABX9TyPpnT7SSGemR2SMUTnJZaHq",
      "include_colab_link": true
    },
    "kernelspec": {
      "name": "python3",
      "display_name": "Python 3"
    },
    "language_info": {
      "name": "python"
    }
  },
  "cells": [
    {
      "cell_type": "markdown",
      "metadata": {
        "id": "view-in-github",
        "colab_type": "text"
      },
      "source": [
        "<a href=\"https://colab.research.google.com/github/the-last-crusaderr/computationInsideOut/blob/master/CSAPP.ipynb\" target=\"_parent\"><img src=\"https://colab.research.google.com/assets/colab-badge.svg\" alt=\"Open In Colab\"/></a>"
      ]
    },
    {
      "cell_type": "markdown",
      "metadata": {
        "id": "HOPp77pzzedE"
      },
      "source": [
        "This notebook belongs to path of becoming rare power programmer.\n",
        "\n",
        "I chose Computer Science: A programmer's perspective for that purpose. \n",
        "\n",
        "I am done with first 2 chapters.\n",
        "\n",
        "Time to jump to 3rd chapter.(Machine Level Representation of Program)\n",
        "\n",
        "Let's Start....\n"
      ]
    },
    {
      "cell_type": "code",
      "metadata": {
        "id": "JvMufWJ7z7XP"
      },
      "source": [
        "High level language --(Compiler)---> Assembly --(Assembly)---> Machine Code ----(Linker)-----> Linking all and making executable\n",
        "\n",
        "# What's the benefits of using high level language over assembly?\n",
        "\n",
        "-> Working on abstraction\n",
        "-> Productive\n",
        "-> Highly portable\n",
        "\n",
        "\n",
        "# My goals -> Ability to read assembly langauge\n",
        "Why -> Help me to undestand the optimisation of compiler and how program behaves dynamically.\n",
        "       By understanding inefficienct at run time, we can improve the overall performance\n",
        "       \n",
        "              \n"
      ],
      "execution_count": null,
      "outputs": []
    },
    {
      "cell_type": "markdown",
      "metadata": {
        "id": "C3BBiAg654le"
      },
      "source": [
        "The machine code,we will use in this training is x86-64\n",
        "\n"
      ]
    },
    {
      "cell_type": "markdown",
      "metadata": {
        "id": "BVn7n3wtQNNN"
      },
      "source": [
        "#Practice Problem 3.1\n",
        "\n",
        "\n",
        "\n",
        "Address Value Register Value\n",
        "0x100   0xFF  %rax    0x100\n",
        "0x104   0xAB  %rcx    0x1\n",
        "0x108   0x13  %rdx    0x3\n",
        "0x10C   0x11\n",
        "\n",
        "\n",
        "\n",
        "Problems-: Find the value at operand\n",
        "\n",
        "\n",
        "\n",
        "Operand                               Value\n",
        "\n",
        "\n",
        "%rax                                  0x100\n",
        "0x104                                 0xAB\n",
        "$0x108                                0x108\n",
        "(%rax)                                0xFF\n",
        "4(%rax)                               0xAB\n",
        "9(%rax,%rdx)                          0x11\n",
        "260(%rcx,%rdx)                        0x13\n",
        "0xFC(,%rcx,4)                         0xFF\n",
        "(%rax,%rdx,4)                         0x11\n",
        "\n",
        "\n",
        "\n",
        "\n",
        "\n",
        "----------------------------------------------------------\n",
        "\n",
        "Rough Work\n",
        "\n",
        "----------------------------------------------------------\n",
        "\n",
        "\n",
        "264/16 = 16 = 8\n",
        "16 / 16 = 1 = 0\n",
        "1 / 16 = 0 = 1\n",
        "\n",
        "0xFC                    11111100\n",
        "0x04                    00000100 \n",
        "------                     1 00000 0000 \n",
        "  0x100\n",
        "\n",
        "\n",
        "\n",
        "0x00C  \n",
        "0x100\n",
        "\n",
        "0x10C\n",
        "\n",
        "\n"
      ]
    }
  ]
}