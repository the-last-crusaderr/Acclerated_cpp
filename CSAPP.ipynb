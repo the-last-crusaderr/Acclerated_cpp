{
  "nbformat": 4,
  "nbformat_minor": 0,
  "metadata": {
    "colab": {
      "name": "CSAPP.ipynb",
      "provenance": [],
      "authorship_tag": "ABX9TyOjNlaXKfOha/foHUTq0hD8",
      "include_colab_link": true
    },
    "kernelspec": {
      "name": "python3",
      "display_name": "Python 3"
    },
    "language_info": {
      "name": "python"
    }
  },
  "cells": [
    {
      "cell_type": "markdown",
      "metadata": {
        "id": "view-in-github",
        "colab_type": "text"
      },
      "source": [
        "<a href=\"https://colab.research.google.com/github/the-last-crusaderr/Acclerated_cpp/blob/master/CSAPP.ipynb\" target=\"_parent\"><img src=\"https://colab.research.google.com/assets/colab-badge.svg\" alt=\"Open In Colab\"/></a>"
      ]
    },
    {
      "cell_type": "markdown",
      "metadata": {
        "id": "HOPp77pzzedE"
      },
      "source": [
        "This notebook belongs to path of becoming rare power programmer.\n",
        "\n",
        "I chose Computer Science: A programmer's perspective for that purpose. \n",
        "\n",
        "I am done with first 2 chapters.\n",
        "\n",
        "Time to jump to 3rd chapter.(Machine Level Representation of Program)"
      ]
    },
    {
      "cell_type": "code",
      "metadata": {
        "id": "JvMufWJ7z7XP"
      },
      "source": [
        ""
      ],
      "execution_count": null,
      "outputs": []
    }
  ]
}